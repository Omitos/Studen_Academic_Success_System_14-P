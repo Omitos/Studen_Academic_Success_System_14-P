{
 "cells": [
  {
   "cell_type": "code",
   "id": "initial_id",
   "metadata": {
    "collapsed": true,
    "ExecuteTime": {
     "end_time": "2025-05-05T06:34:47.560546Z",
     "start_time": "2025-05-05T06:34:47.456663Z"
    }
   },
   "source": [
    "import numpy as np\n",
    "import pandas as pd\n",
    "import matplotlib.pyplot as plt\n",
    "import seaborn as sns\n",
    "from sklearn.model_selection import train_test_split\n",
    "from sklearn.preprocessing import StandardScaler, LabelEncoder\n",
    "from sklearn.ensemble import RandomForestClassifier\n",
    "from sklearn.tree import DecisionTreeClassifier\n",
    "from sklearn.linear_model import LogisticRegression\n",
    "from sklearn.metrics import accuracy_score, classification_report"
   ],
   "outputs": [],
   "execution_count": 166
  },
  {
   "metadata": {
    "ExecuteTime": {
     "end_time": "2025-05-05T06:35:03.052196Z",
     "start_time": "2025-05-05T06:34:58.866885Z"
    }
   },
   "cell_type": "code",
   "source": "df = pd.read_excel('.venv/data/The_Final_Dataset.xlsx')",
   "id": "aa8c2590fcb98e76",
   "outputs": [],
   "execution_count": 167
  },
  {
   "metadata": {
    "ExecuteTime": {
     "end_time": "2025-05-05T06:35:04.237425Z",
     "start_time": "2025-05-05T06:35:04.194878Z"
    }
   },
   "cell_type": "code",
   "source": "df.head()",
   "id": "18373eeecefc608f",
   "outputs": [
    {
     "data": {
      "text/plain": [
       "   Unnamed: 0.1  Unnamed: 0  №  CLASS  PROG_CODE EDU_LANG  \\\n",
       "0             0           0  1      3      10107       EN   \n",
       "1             1           1  2      1      10107       EN   \n",
       "2             2           2  3      2      10107       EN   \n",
       "3             3           3  4      1      10107       EN   \n",
       "4             4           4  5      3      10103       EN   \n",
       "\n",
       "              SPECIALITY      DEP_CODE DEP_CODE_F EDU_LEVEL  ...     COUNTRY  \\\n",
       "0  Компьютерлік ғылымдар  DEP_COMP_SCI      F_ENG         B  ...  Kazakhstan   \n",
       "1  Компьютерлік ғылымдар  DEP_COMP_SCI      F_ENG         B  ...  Kazakhstan   \n",
       "2  Компьютерлік ғылымдар  DEP_COMP_SCI      F_ENG         B  ...  Kazakhstan   \n",
       "3  Компьютерлік ғылымдар  DEP_COMP_SCI      F_ENG         B  ...  Kazakhstan   \n",
       "4     Ақпараттық жүйелер   DEP_INF_SYS      F_ENG         B  ...  Kazakhstan   \n",
       "\n",
       "   NATIONALITY CONCISE_ADDRESS GRANT_CATEGORY  SCHOOL_TYPE ATTESTAT_GPA   GPA  \\\n",
       "0       Kazakh    Not Provided             SG       School          0.0  1.80   \n",
       "1       Kazakh    Not Provided          payer       School          0.0  0.17   \n",
       "2       Kazakh    Not Provided          payer       School          0.0  1.24   \n",
       "3        Uzbek    Not Provided             SG  Lycee (KTL)          0.0  3.44   \n",
       "4       Kazakh    Not Provided          payer  Lycee (KTL)          0.0  1.48   \n",
       "\n",
       "                                      FAILED_COURSES REPEATSYEAR REG_DATE  \n",
       "0  CSS 102,CSS 104,CSS 198,CSS 202,CSS 204,CSS 20...           0      NaT  \n",
       "1  CSS 101,HSS 111,INF 101,MAT 151,MAT 153,TFL 16...           0      NaT  \n",
       "2  CSS 102,CSS 106,CSS 152,CSS 201,CSS 223,CSS 25...           0      NaT  \n",
       "3                                       Not Failed:)           0      NaT  \n",
       "4  CSS 216,CSS 248,CSS 303,CSS 304,HSS 172,INF 20...           0      NaT  \n",
       "\n",
       "[5 rows x 25 columns]"
      ],
      "text/html": [
       "<div>\n",
       "<style scoped>\n",
       "    .dataframe tbody tr th:only-of-type {\n",
       "        vertical-align: middle;\n",
       "    }\n",
       "\n",
       "    .dataframe tbody tr th {\n",
       "        vertical-align: top;\n",
       "    }\n",
       "\n",
       "    .dataframe thead th {\n",
       "        text-align: right;\n",
       "    }\n",
       "</style>\n",
       "<table border=\"1\" class=\"dataframe\">\n",
       "  <thead>\n",
       "    <tr style=\"text-align: right;\">\n",
       "      <th></th>\n",
       "      <th>Unnamed: 0.1</th>\n",
       "      <th>Unnamed: 0</th>\n",
       "      <th>№</th>\n",
       "      <th>CLASS</th>\n",
       "      <th>PROG_CODE</th>\n",
       "      <th>EDU_LANG</th>\n",
       "      <th>SPECIALITY</th>\n",
       "      <th>DEP_CODE</th>\n",
       "      <th>DEP_CODE_F</th>\n",
       "      <th>EDU_LEVEL</th>\n",
       "      <th>...</th>\n",
       "      <th>COUNTRY</th>\n",
       "      <th>NATIONALITY</th>\n",
       "      <th>CONCISE_ADDRESS</th>\n",
       "      <th>GRANT_CATEGORY</th>\n",
       "      <th>SCHOOL_TYPE</th>\n",
       "      <th>ATTESTAT_GPA</th>\n",
       "      <th>GPA</th>\n",
       "      <th>FAILED_COURSES</th>\n",
       "      <th>REPEATSYEAR</th>\n",
       "      <th>REG_DATE</th>\n",
       "    </tr>\n",
       "  </thead>\n",
       "  <tbody>\n",
       "    <tr>\n",
       "      <th>0</th>\n",
       "      <td>0</td>\n",
       "      <td>0</td>\n",
       "      <td>1</td>\n",
       "      <td>3</td>\n",
       "      <td>10107</td>\n",
       "      <td>EN</td>\n",
       "      <td>Компьютерлік ғылымдар</td>\n",
       "      <td>DEP_COMP_SCI</td>\n",
       "      <td>F_ENG</td>\n",
       "      <td>B</td>\n",
       "      <td>...</td>\n",
       "      <td>Kazakhstan</td>\n",
       "      <td>Kazakh</td>\n",
       "      <td>Not Provided</td>\n",
       "      <td>SG</td>\n",
       "      <td>School</td>\n",
       "      <td>0.0</td>\n",
       "      <td>1.80</td>\n",
       "      <td>CSS 102,CSS 104,CSS 198,CSS 202,CSS 204,CSS 20...</td>\n",
       "      <td>0</td>\n",
       "      <td>NaT</td>\n",
       "    </tr>\n",
       "    <tr>\n",
       "      <th>1</th>\n",
       "      <td>1</td>\n",
       "      <td>1</td>\n",
       "      <td>2</td>\n",
       "      <td>1</td>\n",
       "      <td>10107</td>\n",
       "      <td>EN</td>\n",
       "      <td>Компьютерлік ғылымдар</td>\n",
       "      <td>DEP_COMP_SCI</td>\n",
       "      <td>F_ENG</td>\n",
       "      <td>B</td>\n",
       "      <td>...</td>\n",
       "      <td>Kazakhstan</td>\n",
       "      <td>Kazakh</td>\n",
       "      <td>Not Provided</td>\n",
       "      <td>payer</td>\n",
       "      <td>School</td>\n",
       "      <td>0.0</td>\n",
       "      <td>0.17</td>\n",
       "      <td>CSS 101,HSS 111,INF 101,MAT 151,MAT 153,TFL 16...</td>\n",
       "      <td>0</td>\n",
       "      <td>NaT</td>\n",
       "    </tr>\n",
       "    <tr>\n",
       "      <th>2</th>\n",
       "      <td>2</td>\n",
       "      <td>2</td>\n",
       "      <td>3</td>\n",
       "      <td>2</td>\n",
       "      <td>10107</td>\n",
       "      <td>EN</td>\n",
       "      <td>Компьютерлік ғылымдар</td>\n",
       "      <td>DEP_COMP_SCI</td>\n",
       "      <td>F_ENG</td>\n",
       "      <td>B</td>\n",
       "      <td>...</td>\n",
       "      <td>Kazakhstan</td>\n",
       "      <td>Kazakh</td>\n",
       "      <td>Not Provided</td>\n",
       "      <td>payer</td>\n",
       "      <td>School</td>\n",
       "      <td>0.0</td>\n",
       "      <td>1.24</td>\n",
       "      <td>CSS 102,CSS 106,CSS 152,CSS 201,CSS 223,CSS 25...</td>\n",
       "      <td>0</td>\n",
       "      <td>NaT</td>\n",
       "    </tr>\n",
       "    <tr>\n",
       "      <th>3</th>\n",
       "      <td>3</td>\n",
       "      <td>3</td>\n",
       "      <td>4</td>\n",
       "      <td>1</td>\n",
       "      <td>10107</td>\n",
       "      <td>EN</td>\n",
       "      <td>Компьютерлік ғылымдар</td>\n",
       "      <td>DEP_COMP_SCI</td>\n",
       "      <td>F_ENG</td>\n",
       "      <td>B</td>\n",
       "      <td>...</td>\n",
       "      <td>Kazakhstan</td>\n",
       "      <td>Uzbek</td>\n",
       "      <td>Not Provided</td>\n",
       "      <td>SG</td>\n",
       "      <td>Lycee (KTL)</td>\n",
       "      <td>0.0</td>\n",
       "      <td>3.44</td>\n",
       "      <td>Not Failed:)</td>\n",
       "      <td>0</td>\n",
       "      <td>NaT</td>\n",
       "    </tr>\n",
       "    <tr>\n",
       "      <th>4</th>\n",
       "      <td>4</td>\n",
       "      <td>4</td>\n",
       "      <td>5</td>\n",
       "      <td>3</td>\n",
       "      <td>10103</td>\n",
       "      <td>EN</td>\n",
       "      <td>Ақпараттық жүйелер</td>\n",
       "      <td>DEP_INF_SYS</td>\n",
       "      <td>F_ENG</td>\n",
       "      <td>B</td>\n",
       "      <td>...</td>\n",
       "      <td>Kazakhstan</td>\n",
       "      <td>Kazakh</td>\n",
       "      <td>Not Provided</td>\n",
       "      <td>payer</td>\n",
       "      <td>Lycee (KTL)</td>\n",
       "      <td>0.0</td>\n",
       "      <td>1.48</td>\n",
       "      <td>CSS 216,CSS 248,CSS 303,CSS 304,HSS 172,INF 20...</td>\n",
       "      <td>0</td>\n",
       "      <td>NaT</td>\n",
       "    </tr>\n",
       "  </tbody>\n",
       "</table>\n",
       "<p>5 rows × 25 columns</p>\n",
       "</div>"
      ]
     },
     "execution_count": 168,
     "metadata": {},
     "output_type": "execute_result"
    }
   ],
   "execution_count": 168
  },
  {
   "metadata": {
    "ExecuteTime": {
     "end_time": "2025-05-05T06:35:07.631396Z",
     "start_time": "2025-05-05T06:35:07.597677Z"
    }
   },
   "cell_type": "code",
   "source": "df.info()",
   "id": "ea9144404a350efc",
   "outputs": [
    {
     "name": "stdout",
     "output_type": "stream",
     "text": [
      "<class 'pandas.core.frame.DataFrame'>\n",
      "RangeIndex: 7847 entries, 0 to 7846\n",
      "Data columns (total 25 columns):\n",
      " #   Column           Non-Null Count  Dtype         \n",
      "---  ------           --------------  -----         \n",
      " 0   Unnamed: 0.1     7847 non-null   int64         \n",
      " 1   Unnamed: 0       7847 non-null   int64         \n",
      " 2   №                7847 non-null   int64         \n",
      " 3   CLASS            7847 non-null   int64         \n",
      " 4   PROG_CODE        7847 non-null   int64         \n",
      " 5   EDU_LANG         7847 non-null   object        \n",
      " 6   SPECIALITY       7847 non-null   object        \n",
      " 7   DEP_CODE         7847 non-null   object        \n",
      " 8   DEP_CODE_F       7847 non-null   object        \n",
      " 9   EDU_LEVEL        7847 non-null   object        \n",
      " 10  STATUS           7847 non-null   object        \n",
      " 11  JOIN_MARKS       7847 non-null   int64         \n",
      " 12  GENDER           7847 non-null   object        \n",
      " 13  BIRTH_DATE       7847 non-null   datetime64[ns]\n",
      " 14  AGE              7847 non-null   int64         \n",
      " 15  COUNTRY          7847 non-null   object        \n",
      " 16  NATIONALITY      7847 non-null   object        \n",
      " 17  CONCISE_ADDRESS  7847 non-null   object        \n",
      " 18  GRANT_CATEGORY   7847 non-null   object        \n",
      " 19  SCHOOL_TYPE      7847 non-null   object        \n",
      " 20  ATTESTAT_GPA     7847 non-null   float64       \n",
      " 21  GPA              7847 non-null   float64       \n",
      " 22  FAILED_COURSES   7847 non-null   object        \n",
      " 23  REPEATSYEAR      7847 non-null   int64         \n",
      " 24  REG_DATE         3922 non-null   datetime64[ns]\n",
      "dtypes: datetime64[ns](2), float64(2), int64(8), object(13)\n",
      "memory usage: 1.5+ MB\n"
     ]
    }
   ],
   "execution_count": 169
  },
  {
   "metadata": {
    "ExecuteTime": {
     "end_time": "2025-05-05T06:35:08.454263Z",
     "start_time": "2025-05-05T06:35:08.389226Z"
    }
   },
   "cell_type": "code",
   "source": "df.describe()",
   "id": "4326ecd24cdbd649",
   "outputs": [
    {
     "data": {
      "text/plain": [
       "       Unnamed: 0.1   Unnamed: 0            №        CLASS     PROG_CODE  \\\n",
       "count   7847.000000  7847.000000  7847.000000  7847.000000   7847.000000   \n",
       "mean    3923.000000  3923.000000  3924.000000     3.230916  10107.315407   \n",
       "min        0.000000     0.000000     1.000000     1.000000  10101.000000   \n",
       "25%     1961.500000  1961.500000  1962.500000     2.000000  10103.000000   \n",
       "50%     3923.000000  3923.000000  3924.000000     4.000000  10103.000000   \n",
       "75%     5884.500000  5884.500000  5885.500000     4.000000  10107.000000   \n",
       "max     7846.000000  7846.000000  7847.000000     4.000000  10183.000000   \n",
       "std     2265.378114  2265.378114  2265.378114     1.073490     14.759731   \n",
       "\n",
       "        JOIN_MARKS                     BIRTH_DATE          AGE  ATTESTAT_GPA  \\\n",
       "count  7847.000000                           7847  7847.000000   7847.000000   \n",
       "mean     96.842997  2001-12-19 07:52:29.497642496    22.517268      2.443035   \n",
       "min       0.000000            1975-10-24 00:00:52     9.000000     -2.000000   \n",
       "25%      90.000000            1999-10-04 23:00:52    20.000000      0.000000   \n",
       "50%     102.000000            2002-12-24 00:00:00    22.000000      4.000000   \n",
       "75%     116.000000            2004-11-06 23:00:52    25.000000      4.900000   \n",
       "max     140.000000            2015-05-18 23:00:52    49.000000      5.000000   \n",
       "std      30.020935                            NaN     3.824026      2.361047   \n",
       "\n",
       "               GPA  REPEATSYEAR                       REG_DATE  \n",
       "count  7847.000000  7847.000000                           3922  \n",
       "mean      2.265535     0.453804  2022-06-13 05:27:16.280468992  \n",
       "min       0.000000     0.000000            2019-11-20 00:00:52  \n",
       "25%       1.610000     0.000000            2021-08-10 00:00:52  \n",
       "50%       2.550000     0.000000            2022-08-12 00:00:52  \n",
       "75%       3.080000     1.000000            2023-08-10 00:00:52  \n",
       "max       4.000000     1.000000            2024-09-22 00:00:52  \n",
       "std       1.056016     0.497893                            NaN  "
      ],
      "text/html": [
       "<div>\n",
       "<style scoped>\n",
       "    .dataframe tbody tr th:only-of-type {\n",
       "        vertical-align: middle;\n",
       "    }\n",
       "\n",
       "    .dataframe tbody tr th {\n",
       "        vertical-align: top;\n",
       "    }\n",
       "\n",
       "    .dataframe thead th {\n",
       "        text-align: right;\n",
       "    }\n",
       "</style>\n",
       "<table border=\"1\" class=\"dataframe\">\n",
       "  <thead>\n",
       "    <tr style=\"text-align: right;\">\n",
       "      <th></th>\n",
       "      <th>Unnamed: 0.1</th>\n",
       "      <th>Unnamed: 0</th>\n",
       "      <th>№</th>\n",
       "      <th>CLASS</th>\n",
       "      <th>PROG_CODE</th>\n",
       "      <th>JOIN_MARKS</th>\n",
       "      <th>BIRTH_DATE</th>\n",
       "      <th>AGE</th>\n",
       "      <th>ATTESTAT_GPA</th>\n",
       "      <th>GPA</th>\n",
       "      <th>REPEATSYEAR</th>\n",
       "      <th>REG_DATE</th>\n",
       "    </tr>\n",
       "  </thead>\n",
       "  <tbody>\n",
       "    <tr>\n",
       "      <th>count</th>\n",
       "      <td>7847.000000</td>\n",
       "      <td>7847.000000</td>\n",
       "      <td>7847.000000</td>\n",
       "      <td>7847.000000</td>\n",
       "      <td>7847.000000</td>\n",
       "      <td>7847.000000</td>\n",
       "      <td>7847</td>\n",
       "      <td>7847.000000</td>\n",
       "      <td>7847.000000</td>\n",
       "      <td>7847.000000</td>\n",
       "      <td>7847.000000</td>\n",
       "      <td>3922</td>\n",
       "    </tr>\n",
       "    <tr>\n",
       "      <th>mean</th>\n",
       "      <td>3923.000000</td>\n",
       "      <td>3923.000000</td>\n",
       "      <td>3924.000000</td>\n",
       "      <td>3.230916</td>\n",
       "      <td>10107.315407</td>\n",
       "      <td>96.842997</td>\n",
       "      <td>2001-12-19 07:52:29.497642496</td>\n",
       "      <td>22.517268</td>\n",
       "      <td>2.443035</td>\n",
       "      <td>2.265535</td>\n",
       "      <td>0.453804</td>\n",
       "      <td>2022-06-13 05:27:16.280468992</td>\n",
       "    </tr>\n",
       "    <tr>\n",
       "      <th>min</th>\n",
       "      <td>0.000000</td>\n",
       "      <td>0.000000</td>\n",
       "      <td>1.000000</td>\n",
       "      <td>1.000000</td>\n",
       "      <td>10101.000000</td>\n",
       "      <td>0.000000</td>\n",
       "      <td>1975-10-24 00:00:52</td>\n",
       "      <td>9.000000</td>\n",
       "      <td>-2.000000</td>\n",
       "      <td>0.000000</td>\n",
       "      <td>0.000000</td>\n",
       "      <td>2019-11-20 00:00:52</td>\n",
       "    </tr>\n",
       "    <tr>\n",
       "      <th>25%</th>\n",
       "      <td>1961.500000</td>\n",
       "      <td>1961.500000</td>\n",
       "      <td>1962.500000</td>\n",
       "      <td>2.000000</td>\n",
       "      <td>10103.000000</td>\n",
       "      <td>90.000000</td>\n",
       "      <td>1999-10-04 23:00:52</td>\n",
       "      <td>20.000000</td>\n",
       "      <td>0.000000</td>\n",
       "      <td>1.610000</td>\n",
       "      <td>0.000000</td>\n",
       "      <td>2021-08-10 00:00:52</td>\n",
       "    </tr>\n",
       "    <tr>\n",
       "      <th>50%</th>\n",
       "      <td>3923.000000</td>\n",
       "      <td>3923.000000</td>\n",
       "      <td>3924.000000</td>\n",
       "      <td>4.000000</td>\n",
       "      <td>10103.000000</td>\n",
       "      <td>102.000000</td>\n",
       "      <td>2002-12-24 00:00:00</td>\n",
       "      <td>22.000000</td>\n",
       "      <td>4.000000</td>\n",
       "      <td>2.550000</td>\n",
       "      <td>0.000000</td>\n",
       "      <td>2022-08-12 00:00:52</td>\n",
       "    </tr>\n",
       "    <tr>\n",
       "      <th>75%</th>\n",
       "      <td>5884.500000</td>\n",
       "      <td>5884.500000</td>\n",
       "      <td>5885.500000</td>\n",
       "      <td>4.000000</td>\n",
       "      <td>10107.000000</td>\n",
       "      <td>116.000000</td>\n",
       "      <td>2004-11-06 23:00:52</td>\n",
       "      <td>25.000000</td>\n",
       "      <td>4.900000</td>\n",
       "      <td>3.080000</td>\n",
       "      <td>1.000000</td>\n",
       "      <td>2023-08-10 00:00:52</td>\n",
       "    </tr>\n",
       "    <tr>\n",
       "      <th>max</th>\n",
       "      <td>7846.000000</td>\n",
       "      <td>7846.000000</td>\n",
       "      <td>7847.000000</td>\n",
       "      <td>4.000000</td>\n",
       "      <td>10183.000000</td>\n",
       "      <td>140.000000</td>\n",
       "      <td>2015-05-18 23:00:52</td>\n",
       "      <td>49.000000</td>\n",
       "      <td>5.000000</td>\n",
       "      <td>4.000000</td>\n",
       "      <td>1.000000</td>\n",
       "      <td>2024-09-22 00:00:52</td>\n",
       "    </tr>\n",
       "    <tr>\n",
       "      <th>std</th>\n",
       "      <td>2265.378114</td>\n",
       "      <td>2265.378114</td>\n",
       "      <td>2265.378114</td>\n",
       "      <td>1.073490</td>\n",
       "      <td>14.759731</td>\n",
       "      <td>30.020935</td>\n",
       "      <td>NaN</td>\n",
       "      <td>3.824026</td>\n",
       "      <td>2.361047</td>\n",
       "      <td>1.056016</td>\n",
       "      <td>0.497893</td>\n",
       "      <td>NaN</td>\n",
       "    </tr>\n",
       "  </tbody>\n",
       "</table>\n",
       "</div>"
      ]
     },
     "execution_count": 170,
     "metadata": {},
     "output_type": "execute_result"
    }
   ],
   "execution_count": 170
  },
  {
   "metadata": {
    "ExecuteTime": {
     "end_time": "2025-05-05T06:35:09.358812Z",
     "start_time": "2025-05-05T06:35:09.343276Z"
    }
   },
   "cell_type": "code",
   "source": "df.isnull().sum()",
   "id": "995563354784a9a8",
   "outputs": [
    {
     "data": {
      "text/plain": [
       "Unnamed: 0.1          0\n",
       "Unnamed: 0            0\n",
       "№                     0\n",
       "CLASS                 0\n",
       "PROG_CODE             0\n",
       "EDU_LANG              0\n",
       "SPECIALITY            0\n",
       "DEP_CODE              0\n",
       "DEP_CODE_F            0\n",
       "EDU_LEVEL             0\n",
       "STATUS                0\n",
       "JOIN_MARKS            0\n",
       "GENDER                0\n",
       "BIRTH_DATE            0\n",
       "AGE                   0\n",
       "COUNTRY               0\n",
       "NATIONALITY           0\n",
       "CONCISE_ADDRESS       0\n",
       "GRANT_CATEGORY        0\n",
       "SCHOOL_TYPE           0\n",
       "ATTESTAT_GPA          0\n",
       "GPA                   0\n",
       "FAILED_COURSES        0\n",
       "REPEATSYEAR           0\n",
       "REG_DATE           3925\n",
       "dtype: int64"
      ]
     },
     "execution_count": 171,
     "metadata": {},
     "output_type": "execute_result"
    }
   ],
   "execution_count": 171
  },
  {
   "metadata": {
    "ExecuteTime": {
     "end_time": "2025-05-05T06:35:10.272044Z",
     "start_time": "2025-05-05T06:35:10.264600Z"
    }
   },
   "cell_type": "code",
   "source": "df.columns",
   "id": "43d306aeeb78b5fd",
   "outputs": [
    {
     "data": {
      "text/plain": [
       "Index(['Unnamed: 0.1', 'Unnamed: 0', '№', 'CLASS', 'PROG_CODE', 'EDU_LANG',\n",
       "       'SPECIALITY', 'DEP_CODE', 'DEP_CODE_F', 'EDU_LEVEL', 'STATUS',\n",
       "       'JOIN_MARKS', 'GENDER', 'BIRTH_DATE', 'AGE', 'COUNTRY', 'NATIONALITY',\n",
       "       'CONCISE_ADDRESS', 'GRANT_CATEGORY', 'SCHOOL_TYPE', 'ATTESTAT_GPA',\n",
       "       'GPA', 'FAILED_COURSES', 'REPEATSYEAR', 'REG_DATE'],\n",
       "      dtype='object')"
      ]
     },
     "execution_count": 172,
     "metadata": {},
     "output_type": "execute_result"
    }
   ],
   "execution_count": 172
  },
  {
   "metadata": {
    "ExecuteTime": {
     "end_time": "2025-05-05T06:35:11.181973Z",
     "start_time": "2025-05-05T06:35:11.164019Z"
    }
   },
   "cell_type": "code",
   "source": [
    "# Drop unnecessary columns\n",
    "columns_to_drop = ['Unnamed: 0', 'Unnamed: 0.1', '№', 'REG_DATE', 'CONCISE_ADDRESS', 'EDU_LANG', 'DEP_CODE', 'DEP_CODE_F', 'PROG_CODE', 'BIRTH_DATE', 'REPEATSYEAR', 'EDU_LEVEL']\n",
    "df_cleaned = df.drop(columns=columns_to_drop)"
   ],
   "id": "d608773061deb13f",
   "outputs": [],
   "execution_count": 173
  },
  {
   "metadata": {
    "ExecuteTime": {
     "end_time": "2025-05-05T06:35:11.852124Z",
     "start_time": "2025-05-05T06:35:11.842164Z"
    }
   },
   "cell_type": "code",
   "source": "df_cleaned['STATUS'].value_counts()",
   "id": "32875edb112d25cd",
   "outputs": [
    {
     "data": {
      "text/plain": [
       "STATUS\n",
       "Studying        3276\n",
       "Graduated       3138\n",
       "Not studying    1433\n",
       "Name: count, dtype: int64"
      ]
     },
     "execution_count": 174,
     "metadata": {},
     "output_type": "execute_result"
    }
   ],
   "execution_count": 174
  },
  {
   "metadata": {
    "ExecuteTime": {
     "end_time": "2025-05-05T06:35:12.835288Z",
     "start_time": "2025-05-05T06:35:12.827392Z"
    }
   },
   "cell_type": "code",
   "source": "df_cleaned = df_cleaned[df_cleaned['AGE'] <= 24]",
   "id": "d3f2d07e7a94be5d",
   "outputs": [],
   "execution_count": 175
  },
  {
   "metadata": {
    "ExecuteTime": {
     "end_time": "2025-05-05T06:35:13.645210Z",
     "start_time": "2025-05-05T06:35:13.634228Z"
    }
   },
   "cell_type": "code",
   "source": "df_cleaned['STATUS'].value_counts()",
   "id": "b005511d69867ac3",
   "outputs": [
    {
     "data": {
      "text/plain": [
       "STATUS\n",
       "Studying        3258\n",
       "Graduated       1589\n",
       "Not studying     949\n",
       "Name: count, dtype: int64"
      ]
     },
     "execution_count": 176,
     "metadata": {},
     "output_type": "execute_result"
    }
   ],
   "execution_count": 176
  },
  {
   "metadata": {
    "ExecuteTime": {
     "end_time": "2025-05-05T06:35:14.595060Z",
     "start_time": "2025-05-05T06:35:14.579122Z"
    }
   },
   "cell_type": "code",
   "source": "df_cleaned.head()",
   "id": "836d7ffaf353960",
   "outputs": [
    {
     "data": {
      "text/plain": [
       "     CLASS             SPECIALITY        STATUS  JOIN_MARKS  GENDER  AGE  \\\n",
       "0        3  Компьютерлік ғылымдар  Not studying           0    Male   22   \n",
       "2        2  Компьютерлік ғылымдар  Not studying           0    Male   22   \n",
       "14       1     Ақпараттық жүйелер  Not studying          73  Female    9   \n",
       "249      4  Компьютерлік ғылымдар  Not studying           0    Male   22   \n",
       "477      4  Компьютерлік ғылымдар      Studying         109    Male   24   \n",
       "\n",
       "        COUNTRY NATIONALITY GRANT_CATEGORY  SCHOOL_TYPE  ATTESTAT_GPA   GPA  \\\n",
       "0    Kazakhstan      Kazakh             SG       School           0.0  1.80   \n",
       "2    Kazakhstan      Kazakh          payer       School           0.0  1.24   \n",
       "14   Kazakhstan      Kazakh          payer       School           4.5  1.86   \n",
       "249  Kazakhstan      Kazakh          payer       School           0.0  1.50   \n",
       "477  Kazakhstan      Kazakh          payer  Lycee (KTL)           0.0  2.19   \n",
       "\n",
       "                                        FAILED_COURSES  \n",
       "0    CSS 102,CSS 104,CSS 198,CSS 202,CSS 204,CSS 20...  \n",
       "2    CSS 102,CSS 106,CSS 152,CSS 201,CSS 223,CSS 25...  \n",
       "14             INF 152,MAT 154,RUS 102,TFL 164,TUR 102  \n",
       "249                            CSS 301,CSS 403,CSS 411  \n",
       "477                                    MDE 114,MDE 115  "
      ],
      "text/html": [
       "<div>\n",
       "<style scoped>\n",
       "    .dataframe tbody tr th:only-of-type {\n",
       "        vertical-align: middle;\n",
       "    }\n",
       "\n",
       "    .dataframe tbody tr th {\n",
       "        vertical-align: top;\n",
       "    }\n",
       "\n",
       "    .dataframe thead th {\n",
       "        text-align: right;\n",
       "    }\n",
       "</style>\n",
       "<table border=\"1\" class=\"dataframe\">\n",
       "  <thead>\n",
       "    <tr style=\"text-align: right;\">\n",
       "      <th></th>\n",
       "      <th>CLASS</th>\n",
       "      <th>SPECIALITY</th>\n",
       "      <th>STATUS</th>\n",
       "      <th>JOIN_MARKS</th>\n",
       "      <th>GENDER</th>\n",
       "      <th>AGE</th>\n",
       "      <th>COUNTRY</th>\n",
       "      <th>NATIONALITY</th>\n",
       "      <th>GRANT_CATEGORY</th>\n",
       "      <th>SCHOOL_TYPE</th>\n",
       "      <th>ATTESTAT_GPA</th>\n",
       "      <th>GPA</th>\n",
       "      <th>FAILED_COURSES</th>\n",
       "    </tr>\n",
       "  </thead>\n",
       "  <tbody>\n",
       "    <tr>\n",
       "      <th>0</th>\n",
       "      <td>3</td>\n",
       "      <td>Компьютерлік ғылымдар</td>\n",
       "      <td>Not studying</td>\n",
       "      <td>0</td>\n",
       "      <td>Male</td>\n",
       "      <td>22</td>\n",
       "      <td>Kazakhstan</td>\n",
       "      <td>Kazakh</td>\n",
       "      <td>SG</td>\n",
       "      <td>School</td>\n",
       "      <td>0.0</td>\n",
       "      <td>1.80</td>\n",
       "      <td>CSS 102,CSS 104,CSS 198,CSS 202,CSS 204,CSS 20...</td>\n",
       "    </tr>\n",
       "    <tr>\n",
       "      <th>2</th>\n",
       "      <td>2</td>\n",
       "      <td>Компьютерлік ғылымдар</td>\n",
       "      <td>Not studying</td>\n",
       "      <td>0</td>\n",
       "      <td>Male</td>\n",
       "      <td>22</td>\n",
       "      <td>Kazakhstan</td>\n",
       "      <td>Kazakh</td>\n",
       "      <td>payer</td>\n",
       "      <td>School</td>\n",
       "      <td>0.0</td>\n",
       "      <td>1.24</td>\n",
       "      <td>CSS 102,CSS 106,CSS 152,CSS 201,CSS 223,CSS 25...</td>\n",
       "    </tr>\n",
       "    <tr>\n",
       "      <th>14</th>\n",
       "      <td>1</td>\n",
       "      <td>Ақпараттық жүйелер</td>\n",
       "      <td>Not studying</td>\n",
       "      <td>73</td>\n",
       "      <td>Female</td>\n",
       "      <td>9</td>\n",
       "      <td>Kazakhstan</td>\n",
       "      <td>Kazakh</td>\n",
       "      <td>payer</td>\n",
       "      <td>School</td>\n",
       "      <td>4.5</td>\n",
       "      <td>1.86</td>\n",
       "      <td>INF 152,MAT 154,RUS 102,TFL 164,TUR 102</td>\n",
       "    </tr>\n",
       "    <tr>\n",
       "      <th>249</th>\n",
       "      <td>4</td>\n",
       "      <td>Компьютерлік ғылымдар</td>\n",
       "      <td>Not studying</td>\n",
       "      <td>0</td>\n",
       "      <td>Male</td>\n",
       "      <td>22</td>\n",
       "      <td>Kazakhstan</td>\n",
       "      <td>Kazakh</td>\n",
       "      <td>payer</td>\n",
       "      <td>School</td>\n",
       "      <td>0.0</td>\n",
       "      <td>1.50</td>\n",
       "      <td>CSS 301,CSS 403,CSS 411</td>\n",
       "    </tr>\n",
       "    <tr>\n",
       "      <th>477</th>\n",
       "      <td>4</td>\n",
       "      <td>Компьютерлік ғылымдар</td>\n",
       "      <td>Studying</td>\n",
       "      <td>109</td>\n",
       "      <td>Male</td>\n",
       "      <td>24</td>\n",
       "      <td>Kazakhstan</td>\n",
       "      <td>Kazakh</td>\n",
       "      <td>payer</td>\n",
       "      <td>Lycee (KTL)</td>\n",
       "      <td>0.0</td>\n",
       "      <td>2.19</td>\n",
       "      <td>MDE 114,MDE 115</td>\n",
       "    </tr>\n",
       "  </tbody>\n",
       "</table>\n",
       "</div>"
      ]
     },
     "execution_count": 177,
     "metadata": {},
     "output_type": "execute_result"
    }
   ],
   "execution_count": 177
  },
  {
   "metadata": {
    "ExecuteTime": {
     "end_time": "2025-05-05T06:35:15.932352Z",
     "start_time": "2025-05-05T06:35:15.925714Z"
    }
   },
   "cell_type": "code",
   "source": [
    "# Create binary target variable based on GPA (success/failure)\n",
    "df_cleaned['Academic_Success'] = (df_cleaned['GPA'] >= 2.0).astype(int)"
   ],
   "id": "c81bb115fb69d583",
   "outputs": [],
   "execution_count": 178
  },
  {
   "metadata": {
    "ExecuteTime": {
     "end_time": "2025-05-05T06:35:16.739237Z",
     "start_time": "2025-05-05T06:35:16.734440Z"
    }
   },
   "cell_type": "code",
   "source": [
    "# Initialize LabelEncoder for binary and ordinal columns (e.g., GENDER, STATUS)\n",
    "le = LabelEncoder()"
   ],
   "id": "6d231ad64165a067",
   "outputs": [],
   "execution_count": 179
  },
  {
   "metadata": {
    "ExecuteTime": {
     "end_time": "2025-05-05T06:35:17.458263Z",
     "start_time": "2025-05-05T06:35:17.445483Z"
    }
   },
   "cell_type": "code",
   "source": [
    "# Encode categorical columns using LabelEncoder where necessary\n",
    "df_cleaned['GENDER'] = le.fit_transform(df_cleaned['GENDER'])\n",
    "df_cleaned['STATUS'] = le.fit_transform(df_cleaned['STATUS'])  # This handles 'Studying', 'Not studying', 'Graduated'\n",
    "df_cleaned['SCHOOL_TYPE'] = le.fit_transform(df_cleaned['SCHOOL_TYPE'])  # This handles the 3 unique categories"
   ],
   "id": "d91c2fea1aa57fce",
   "outputs": [],
   "execution_count": 180
  },
  {
   "metadata": {
    "ExecuteTime": {
     "end_time": "2025-05-05T06:35:18.084004Z",
     "start_time": "2025-05-05T06:35:18.062288Z"
    }
   },
   "cell_type": "code",
   "source": [
    "# Use One-Hot Encoding for columns with multiple categories (e.g., SPECIALITY, COUNTRY, NATIONALITY)\n",
    "df_cleaned = pd.get_dummies(df_cleaned, columns=['SPECIALITY', 'COUNTRY', 'NATIONALITY', 'GRANT_CATEGORY'], drop_first=True)"
   ],
   "id": "f576db080e09021c",
   "outputs": [],
   "execution_count": 181
  },
  {
   "metadata": {
    "ExecuteTime": {
     "end_time": "2025-05-05T06:35:18.915428Z",
     "start_time": "2025-05-05T06:35:18.899648Z"
    }
   },
   "cell_type": "code",
   "source": [
    "# Handle failed courses (1 for failed, 0 for not failed)\n",
    "def count_failed_courses(value):\n",
    "    if pd.isna(value):\n",
    "        return 0\n",
    "    value = str(value).strip()\n",
    "    if value == 'Not Failed:)':\n",
    "        return 0\n",
    "    if ',' in value:\n",
    "        return value.count(',') + 1\n",
    "    return 1\n",
    "\n",
    "df_cleaned['FAILED_COUNT'] = df_cleaned['FAILED_COURSES'].apply(count_failed_courses)\n"
   ],
   "id": "a2185319a764fdf",
   "outputs": [],
   "execution_count": 182
  },
  {
   "metadata": {
    "ExecuteTime": {
     "end_time": "2025-05-05T06:35:19.601512Z",
     "start_time": "2025-05-05T06:35:19.595347Z"
    }
   },
   "cell_type": "code",
   "source": [
    "# Create binary target variable based on GPA (success/failure)\n",
    "df_cleaned['Academic_Success'] = (df_cleaned['GPA'] >= 2.0).astype(int)"
   ],
   "id": "f1edd38c053f7429",
   "outputs": [],
   "execution_count": 183
  },
  {
   "metadata": {
    "ExecuteTime": {
     "end_time": "2025-05-05T06:35:20.177883Z",
     "start_time": "2025-05-05T06:35:20.167976Z"
    }
   },
   "cell_type": "code",
   "source": [
    "# Define features and target variable\n",
    "X = df_cleaned.drop(columns=['GPA', 'FAILED_COURSES', 'Academic_Success'])\n",
    "y = df_cleaned['Academic_Success']"
   ],
   "id": "9fa5b811c9f1c9da",
   "outputs": [],
   "execution_count": 184
  },
  {
   "metadata": {
    "ExecuteTime": {
     "end_time": "2025-05-05T06:35:20.750566Z",
     "start_time": "2025-05-05T06:35:20.727746Z"
    }
   },
   "cell_type": "code",
   "source": [
    "# Split the data into training and testing sets\n",
    "X_train, X_test, y_train, y_test = train_test_split(X, y, test_size=0.2, random_state=42)"
   ],
   "id": "2b68ce85900da222",
   "outputs": [],
   "execution_count": 185
  },
  {
   "metadata": {
    "ExecuteTime": {
     "end_time": "2025-05-05T06:35:21.312617Z",
     "start_time": "2025-05-05T06:35:21.268472Z"
    }
   },
   "cell_type": "code",
   "source": [
    "# Scale the data for models that require scaling (e.g., Logistic Regression)\n",
    "scaler = StandardScaler()\n",
    "X_train_scaled = scaler.fit_transform(X_train)\n",
    "X_test_scaled = scaler.transform(X_test)"
   ],
   "id": "68c73e07870052b0",
   "outputs": [],
   "execution_count": 186
  },
  {
   "metadata": {
    "ExecuteTime": {
     "end_time": "2025-05-05T06:35:21.861982Z",
     "start_time": "2025-05-05T06:35:21.816399Z"
    }
   },
   "cell_type": "code",
   "source": [
    "# Initialize models\n",
    "dt_model = DecisionTreeClassifier(random_state=42)\n",
    "lr_model = LogisticRegression(max_iter=1000, random_state=42)\n",
    "rf_model = RandomForestClassifier(n_estimators=100, random_state=42)"
   ],
   "id": "b37d3bd77f37f4fc",
   "outputs": [],
   "execution_count": 187
  },
  {
   "metadata": {
    "ExecuteTime": {
     "end_time": "2025-05-05T06:35:22.921411Z",
     "start_time": "2025-05-05T06:35:22.339484Z"
    }
   },
   "cell_type": "code",
   "source": [
    "# Train the models\n",
    "dt_model.fit(X_train_scaled, y_train)\n",
    "lr_model.fit(X_train_scaled, y_train)\n",
    "rf_model.fit(X_train_scaled, y_train)"
   ],
   "id": "105574102b2b324e",
   "outputs": [
    {
     "data": {
      "text/plain": [
       "RandomForestClassifier(random_state=42)"
      ],
      "text/html": [
       "<style>#sk-container-id-4 {\n",
       "  /* Definition of color scheme common for light and dark mode */\n",
       "  --sklearn-color-text: #000;\n",
       "  --sklearn-color-text-muted: #666;\n",
       "  --sklearn-color-line: gray;\n",
       "  /* Definition of color scheme for unfitted estimators */\n",
       "  --sklearn-color-unfitted-level-0: #fff5e6;\n",
       "  --sklearn-color-unfitted-level-1: #f6e4d2;\n",
       "  --sklearn-color-unfitted-level-2: #ffe0b3;\n",
       "  --sklearn-color-unfitted-level-3: chocolate;\n",
       "  /* Definition of color scheme for fitted estimators */\n",
       "  --sklearn-color-fitted-level-0: #f0f8ff;\n",
       "  --sklearn-color-fitted-level-1: #d4ebff;\n",
       "  --sklearn-color-fitted-level-2: #b3dbfd;\n",
       "  --sklearn-color-fitted-level-3: cornflowerblue;\n",
       "\n",
       "  /* Specific color for light theme */\n",
       "  --sklearn-color-text-on-default-background: var(--sg-text-color, var(--theme-code-foreground, var(--jp-content-font-color1, black)));\n",
       "  --sklearn-color-background: var(--sg-background-color, var(--theme-background, var(--jp-layout-color0, white)));\n",
       "  --sklearn-color-border-box: var(--sg-text-color, var(--theme-code-foreground, var(--jp-content-font-color1, black)));\n",
       "  --sklearn-color-icon: #696969;\n",
       "\n",
       "  @media (prefers-color-scheme: dark) {\n",
       "    /* Redefinition of color scheme for dark theme */\n",
       "    --sklearn-color-text-on-default-background: var(--sg-text-color, var(--theme-code-foreground, var(--jp-content-font-color1, white)));\n",
       "    --sklearn-color-background: var(--sg-background-color, var(--theme-background, var(--jp-layout-color0, #111)));\n",
       "    --sklearn-color-border-box: var(--sg-text-color, var(--theme-code-foreground, var(--jp-content-font-color1, white)));\n",
       "    --sklearn-color-icon: #878787;\n",
       "  }\n",
       "}\n",
       "\n",
       "#sk-container-id-4 {\n",
       "  color: var(--sklearn-color-text);\n",
       "}\n",
       "\n",
       "#sk-container-id-4 pre {\n",
       "  padding: 0;\n",
       "}\n",
       "\n",
       "#sk-container-id-4 input.sk-hidden--visually {\n",
       "  border: 0;\n",
       "  clip: rect(1px 1px 1px 1px);\n",
       "  clip: rect(1px, 1px, 1px, 1px);\n",
       "  height: 1px;\n",
       "  margin: -1px;\n",
       "  overflow: hidden;\n",
       "  padding: 0;\n",
       "  position: absolute;\n",
       "  width: 1px;\n",
       "}\n",
       "\n",
       "#sk-container-id-4 div.sk-dashed-wrapped {\n",
       "  border: 1px dashed var(--sklearn-color-line);\n",
       "  margin: 0 0.4em 0.5em 0.4em;\n",
       "  box-sizing: border-box;\n",
       "  padding-bottom: 0.4em;\n",
       "  background-color: var(--sklearn-color-background);\n",
       "}\n",
       "\n",
       "#sk-container-id-4 div.sk-container {\n",
       "  /* jupyter's `normalize.less` sets `[hidden] { display: none; }`\n",
       "     but bootstrap.min.css set `[hidden] { display: none !important; }`\n",
       "     so we also need the `!important` here to be able to override the\n",
       "     default hidden behavior on the sphinx rendered scikit-learn.org.\n",
       "     See: https://github.com/scikit-learn/scikit-learn/issues/21755 */\n",
       "  display: inline-block !important;\n",
       "  position: relative;\n",
       "}\n",
       "\n",
       "#sk-container-id-4 div.sk-text-repr-fallback {\n",
       "  display: none;\n",
       "}\n",
       "\n",
       "div.sk-parallel-item,\n",
       "div.sk-serial,\n",
       "div.sk-item {\n",
       "  /* draw centered vertical line to link estimators */\n",
       "  background-image: linear-gradient(var(--sklearn-color-text-on-default-background), var(--sklearn-color-text-on-default-background));\n",
       "  background-size: 2px 100%;\n",
       "  background-repeat: no-repeat;\n",
       "  background-position: center center;\n",
       "}\n",
       "\n",
       "/* Parallel-specific style estimator block */\n",
       "\n",
       "#sk-container-id-4 div.sk-parallel-item::after {\n",
       "  content: \"\";\n",
       "  width: 100%;\n",
       "  border-bottom: 2px solid var(--sklearn-color-text-on-default-background);\n",
       "  flex-grow: 1;\n",
       "}\n",
       "\n",
       "#sk-container-id-4 div.sk-parallel {\n",
       "  display: flex;\n",
       "  align-items: stretch;\n",
       "  justify-content: center;\n",
       "  background-color: var(--sklearn-color-background);\n",
       "  position: relative;\n",
       "}\n",
       "\n",
       "#sk-container-id-4 div.sk-parallel-item {\n",
       "  display: flex;\n",
       "  flex-direction: column;\n",
       "}\n",
       "\n",
       "#sk-container-id-4 div.sk-parallel-item:first-child::after {\n",
       "  align-self: flex-end;\n",
       "  width: 50%;\n",
       "}\n",
       "\n",
       "#sk-container-id-4 div.sk-parallel-item:last-child::after {\n",
       "  align-self: flex-start;\n",
       "  width: 50%;\n",
       "}\n",
       "\n",
       "#sk-container-id-4 div.sk-parallel-item:only-child::after {\n",
       "  width: 0;\n",
       "}\n",
       "\n",
       "/* Serial-specific style estimator block */\n",
       "\n",
       "#sk-container-id-4 div.sk-serial {\n",
       "  display: flex;\n",
       "  flex-direction: column;\n",
       "  align-items: center;\n",
       "  background-color: var(--sklearn-color-background);\n",
       "  padding-right: 1em;\n",
       "  padding-left: 1em;\n",
       "}\n",
       "\n",
       "\n",
       "/* Toggleable style: style used for estimator/Pipeline/ColumnTransformer box that is\n",
       "clickable and can be expanded/collapsed.\n",
       "- Pipeline and ColumnTransformer use this feature and define the default style\n",
       "- Estimators will overwrite some part of the style using the `sk-estimator` class\n",
       "*/\n",
       "\n",
       "/* Pipeline and ColumnTransformer style (default) */\n",
       "\n",
       "#sk-container-id-4 div.sk-toggleable {\n",
       "  /* Default theme specific background. It is overwritten whether we have a\n",
       "  specific estimator or a Pipeline/ColumnTransformer */\n",
       "  background-color: var(--sklearn-color-background);\n",
       "}\n",
       "\n",
       "/* Toggleable label */\n",
       "#sk-container-id-4 label.sk-toggleable__label {\n",
       "  cursor: pointer;\n",
       "  display: flex;\n",
       "  width: 100%;\n",
       "  margin-bottom: 0;\n",
       "  padding: 0.5em;\n",
       "  box-sizing: border-box;\n",
       "  text-align: center;\n",
       "  align-items: start;\n",
       "  justify-content: space-between;\n",
       "  gap: 0.5em;\n",
       "}\n",
       "\n",
       "#sk-container-id-4 label.sk-toggleable__label .caption {\n",
       "  font-size: 0.6rem;\n",
       "  font-weight: lighter;\n",
       "  color: var(--sklearn-color-text-muted);\n",
       "}\n",
       "\n",
       "#sk-container-id-4 label.sk-toggleable__label-arrow:before {\n",
       "  /* Arrow on the left of the label */\n",
       "  content: \"▸\";\n",
       "  float: left;\n",
       "  margin-right: 0.25em;\n",
       "  color: var(--sklearn-color-icon);\n",
       "}\n",
       "\n",
       "#sk-container-id-4 label.sk-toggleable__label-arrow:hover:before {\n",
       "  color: var(--sklearn-color-text);\n",
       "}\n",
       "\n",
       "/* Toggleable content - dropdown */\n",
       "\n",
       "#sk-container-id-4 div.sk-toggleable__content {\n",
       "  max-height: 0;\n",
       "  max-width: 0;\n",
       "  overflow: hidden;\n",
       "  text-align: left;\n",
       "  /* unfitted */\n",
       "  background-color: var(--sklearn-color-unfitted-level-0);\n",
       "}\n",
       "\n",
       "#sk-container-id-4 div.sk-toggleable__content.fitted {\n",
       "  /* fitted */\n",
       "  background-color: var(--sklearn-color-fitted-level-0);\n",
       "}\n",
       "\n",
       "#sk-container-id-4 div.sk-toggleable__content pre {\n",
       "  margin: 0.2em;\n",
       "  border-radius: 0.25em;\n",
       "  color: var(--sklearn-color-text);\n",
       "  /* unfitted */\n",
       "  background-color: var(--sklearn-color-unfitted-level-0);\n",
       "}\n",
       "\n",
       "#sk-container-id-4 div.sk-toggleable__content.fitted pre {\n",
       "  /* unfitted */\n",
       "  background-color: var(--sklearn-color-fitted-level-0);\n",
       "}\n",
       "\n",
       "#sk-container-id-4 input.sk-toggleable__control:checked~div.sk-toggleable__content {\n",
       "  /* Expand drop-down */\n",
       "  max-height: 200px;\n",
       "  max-width: 100%;\n",
       "  overflow: auto;\n",
       "}\n",
       "\n",
       "#sk-container-id-4 input.sk-toggleable__control:checked~label.sk-toggleable__label-arrow:before {\n",
       "  content: \"▾\";\n",
       "}\n",
       "\n",
       "/* Pipeline/ColumnTransformer-specific style */\n",
       "\n",
       "#sk-container-id-4 div.sk-label input.sk-toggleable__control:checked~label.sk-toggleable__label {\n",
       "  color: var(--sklearn-color-text);\n",
       "  background-color: var(--sklearn-color-unfitted-level-2);\n",
       "}\n",
       "\n",
       "#sk-container-id-4 div.sk-label.fitted input.sk-toggleable__control:checked~label.sk-toggleable__label {\n",
       "  background-color: var(--sklearn-color-fitted-level-2);\n",
       "}\n",
       "\n",
       "/* Estimator-specific style */\n",
       "\n",
       "/* Colorize estimator box */\n",
       "#sk-container-id-4 div.sk-estimator input.sk-toggleable__control:checked~label.sk-toggleable__label {\n",
       "  /* unfitted */\n",
       "  background-color: var(--sklearn-color-unfitted-level-2);\n",
       "}\n",
       "\n",
       "#sk-container-id-4 div.sk-estimator.fitted input.sk-toggleable__control:checked~label.sk-toggleable__label {\n",
       "  /* fitted */\n",
       "  background-color: var(--sklearn-color-fitted-level-2);\n",
       "}\n",
       "\n",
       "#sk-container-id-4 div.sk-label label.sk-toggleable__label,\n",
       "#sk-container-id-4 div.sk-label label {\n",
       "  /* The background is the default theme color */\n",
       "  color: var(--sklearn-color-text-on-default-background);\n",
       "}\n",
       "\n",
       "/* On hover, darken the color of the background */\n",
       "#sk-container-id-4 div.sk-label:hover label.sk-toggleable__label {\n",
       "  color: var(--sklearn-color-text);\n",
       "  background-color: var(--sklearn-color-unfitted-level-2);\n",
       "}\n",
       "\n",
       "/* Label box, darken color on hover, fitted */\n",
       "#sk-container-id-4 div.sk-label.fitted:hover label.sk-toggleable__label.fitted {\n",
       "  color: var(--sklearn-color-text);\n",
       "  background-color: var(--sklearn-color-fitted-level-2);\n",
       "}\n",
       "\n",
       "/* Estimator label */\n",
       "\n",
       "#sk-container-id-4 div.sk-label label {\n",
       "  font-family: monospace;\n",
       "  font-weight: bold;\n",
       "  display: inline-block;\n",
       "  line-height: 1.2em;\n",
       "}\n",
       "\n",
       "#sk-container-id-4 div.sk-label-container {\n",
       "  text-align: center;\n",
       "}\n",
       "\n",
       "/* Estimator-specific */\n",
       "#sk-container-id-4 div.sk-estimator {\n",
       "  font-family: monospace;\n",
       "  border: 1px dotted var(--sklearn-color-border-box);\n",
       "  border-radius: 0.25em;\n",
       "  box-sizing: border-box;\n",
       "  margin-bottom: 0.5em;\n",
       "  /* unfitted */\n",
       "  background-color: var(--sklearn-color-unfitted-level-0);\n",
       "}\n",
       "\n",
       "#sk-container-id-4 div.sk-estimator.fitted {\n",
       "  /* fitted */\n",
       "  background-color: var(--sklearn-color-fitted-level-0);\n",
       "}\n",
       "\n",
       "/* on hover */\n",
       "#sk-container-id-4 div.sk-estimator:hover {\n",
       "  /* unfitted */\n",
       "  background-color: var(--sklearn-color-unfitted-level-2);\n",
       "}\n",
       "\n",
       "#sk-container-id-4 div.sk-estimator.fitted:hover {\n",
       "  /* fitted */\n",
       "  background-color: var(--sklearn-color-fitted-level-2);\n",
       "}\n",
       "\n",
       "/* Specification for estimator info (e.g. \"i\" and \"?\") */\n",
       "\n",
       "/* Common style for \"i\" and \"?\" */\n",
       "\n",
       ".sk-estimator-doc-link,\n",
       "a:link.sk-estimator-doc-link,\n",
       "a:visited.sk-estimator-doc-link {\n",
       "  float: right;\n",
       "  font-size: smaller;\n",
       "  line-height: 1em;\n",
       "  font-family: monospace;\n",
       "  background-color: var(--sklearn-color-background);\n",
       "  border-radius: 1em;\n",
       "  height: 1em;\n",
       "  width: 1em;\n",
       "  text-decoration: none !important;\n",
       "  margin-left: 0.5em;\n",
       "  text-align: center;\n",
       "  /* unfitted */\n",
       "  border: var(--sklearn-color-unfitted-level-1) 1pt solid;\n",
       "  color: var(--sklearn-color-unfitted-level-1);\n",
       "}\n",
       "\n",
       ".sk-estimator-doc-link.fitted,\n",
       "a:link.sk-estimator-doc-link.fitted,\n",
       "a:visited.sk-estimator-doc-link.fitted {\n",
       "  /* fitted */\n",
       "  border: var(--sklearn-color-fitted-level-1) 1pt solid;\n",
       "  color: var(--sklearn-color-fitted-level-1);\n",
       "}\n",
       "\n",
       "/* On hover */\n",
       "div.sk-estimator:hover .sk-estimator-doc-link:hover,\n",
       ".sk-estimator-doc-link:hover,\n",
       "div.sk-label-container:hover .sk-estimator-doc-link:hover,\n",
       ".sk-estimator-doc-link:hover {\n",
       "  /* unfitted */\n",
       "  background-color: var(--sklearn-color-unfitted-level-3);\n",
       "  color: var(--sklearn-color-background);\n",
       "  text-decoration: none;\n",
       "}\n",
       "\n",
       "div.sk-estimator.fitted:hover .sk-estimator-doc-link.fitted:hover,\n",
       ".sk-estimator-doc-link.fitted:hover,\n",
       "div.sk-label-container:hover .sk-estimator-doc-link.fitted:hover,\n",
       ".sk-estimator-doc-link.fitted:hover {\n",
       "  /* fitted */\n",
       "  background-color: var(--sklearn-color-fitted-level-3);\n",
       "  color: var(--sklearn-color-background);\n",
       "  text-decoration: none;\n",
       "}\n",
       "\n",
       "/* Span, style for the box shown on hovering the info icon */\n",
       ".sk-estimator-doc-link span {\n",
       "  display: none;\n",
       "  z-index: 9999;\n",
       "  position: relative;\n",
       "  font-weight: normal;\n",
       "  right: .2ex;\n",
       "  padding: .5ex;\n",
       "  margin: .5ex;\n",
       "  width: min-content;\n",
       "  min-width: 20ex;\n",
       "  max-width: 50ex;\n",
       "  color: var(--sklearn-color-text);\n",
       "  box-shadow: 2pt 2pt 4pt #999;\n",
       "  /* unfitted */\n",
       "  background: var(--sklearn-color-unfitted-level-0);\n",
       "  border: .5pt solid var(--sklearn-color-unfitted-level-3);\n",
       "}\n",
       "\n",
       ".sk-estimator-doc-link.fitted span {\n",
       "  /* fitted */\n",
       "  background: var(--sklearn-color-fitted-level-0);\n",
       "  border: var(--sklearn-color-fitted-level-3);\n",
       "}\n",
       "\n",
       ".sk-estimator-doc-link:hover span {\n",
       "  display: block;\n",
       "}\n",
       "\n",
       "/* \"?\"-specific style due to the `<a>` HTML tag */\n",
       "\n",
       "#sk-container-id-4 a.estimator_doc_link {\n",
       "  float: right;\n",
       "  font-size: 1rem;\n",
       "  line-height: 1em;\n",
       "  font-family: monospace;\n",
       "  background-color: var(--sklearn-color-background);\n",
       "  border-radius: 1rem;\n",
       "  height: 1rem;\n",
       "  width: 1rem;\n",
       "  text-decoration: none;\n",
       "  /* unfitted */\n",
       "  color: var(--sklearn-color-unfitted-level-1);\n",
       "  border: var(--sklearn-color-unfitted-level-1) 1pt solid;\n",
       "}\n",
       "\n",
       "#sk-container-id-4 a.estimator_doc_link.fitted {\n",
       "  /* fitted */\n",
       "  border: var(--sklearn-color-fitted-level-1) 1pt solid;\n",
       "  color: var(--sklearn-color-fitted-level-1);\n",
       "}\n",
       "\n",
       "/* On hover */\n",
       "#sk-container-id-4 a.estimator_doc_link:hover {\n",
       "  /* unfitted */\n",
       "  background-color: var(--sklearn-color-unfitted-level-3);\n",
       "  color: var(--sklearn-color-background);\n",
       "  text-decoration: none;\n",
       "}\n",
       "\n",
       "#sk-container-id-4 a.estimator_doc_link.fitted:hover {\n",
       "  /* fitted */\n",
       "  background-color: var(--sklearn-color-fitted-level-3);\n",
       "}\n",
       "</style><div id=\"sk-container-id-4\" class=\"sk-top-container\"><div class=\"sk-text-repr-fallback\"><pre>RandomForestClassifier(random_state=42)</pre><b>In a Jupyter environment, please rerun this cell to show the HTML representation or trust the notebook. <br />On GitHub, the HTML representation is unable to render, please try loading this page with nbviewer.org.</b></div><div class=\"sk-container\" hidden><div class=\"sk-item\"><div class=\"sk-estimator fitted sk-toggleable\"><input class=\"sk-toggleable__control sk-hidden--visually\" id=\"sk-estimator-id-4\" type=\"checkbox\" checked><label for=\"sk-estimator-id-4\" class=\"sk-toggleable__label fitted sk-toggleable__label-arrow\"><div><div>RandomForestClassifier</div></div><div><a class=\"sk-estimator-doc-link fitted\" rel=\"noreferrer\" target=\"_blank\" href=\"https://scikit-learn.org/1.6/modules/generated/sklearn.ensemble.RandomForestClassifier.html\">?<span>Documentation for RandomForestClassifier</span></a><span class=\"sk-estimator-doc-link fitted\">i<span>Fitted</span></span></div></label><div class=\"sk-toggleable__content fitted\"><pre>RandomForestClassifier(random_state=42)</pre></div> </div></div></div></div>"
      ]
     },
     "execution_count": 188,
     "metadata": {},
     "output_type": "execute_result"
    }
   ],
   "execution_count": 188
  },
  {
   "metadata": {
    "ExecuteTime": {
     "end_time": "2025-05-05T06:35:22.977708Z",
     "start_time": "2025-05-05T06:35:22.945419Z"
    }
   },
   "cell_type": "code",
   "source": [
    "# Predict on the test set\n",
    "dt_predictions = dt_model.predict(X_test_scaled)\n",
    "lr_predictions = lr_model.predict(X_test_scaled)\n",
    "rf_predictions = rf_model.predict(X_test_scaled)"
   ],
   "id": "1ff2692c999ff703",
   "outputs": [],
   "execution_count": 189
  },
  {
   "metadata": {
    "ExecuteTime": {
     "end_time": "2025-05-05T06:35:24.344454Z",
     "start_time": "2025-05-05T06:35:24.329111Z"
    }
   },
   "cell_type": "code",
   "source": [
    "# Evaluate the accuracy of all models\n",
    "dt_accuracy = accuracy_score(y_test, dt_predictions)\n",
    "lr_accuracy = accuracy_score(y_test, lr_predictions)\n",
    "rf_accuracy = accuracy_score(y_test, rf_predictions)"
   ],
   "id": "83f2d2a3503c4f28",
   "outputs": [],
   "execution_count": 190
  },
  {
   "metadata": {
    "ExecuteTime": {
     "end_time": "2025-05-05T06:35:25.055634Z",
     "start_time": "2025-05-05T06:35:25.044957Z"
    }
   },
   "cell_type": "code",
   "source": [
    "# Output the results\n",
    "print(f\"Decision Tree Model Accuracy: {dt_accuracy * 100:.2f}%\")\n",
    "print(f\"Logistic Regression Model Accuracy: {lr_accuracy * 100:.2f}%\")\n",
    "print(f\"Random Forest Model Accuracy: {rf_accuracy * 100:.2f}%\")"
   ],
   "id": "f7e0f09a97cd071a",
   "outputs": [
    {
     "name": "stdout",
     "output_type": "stream",
     "text": [
      "Decision Tree Model Accuracy: 88.45%\n",
      "Logistic Regression Model Accuracy: 88.88%\n",
      "Random Forest Model Accuracy: 89.57%\n"
     ]
    }
   ],
   "execution_count": 191
  },
  {
   "metadata": {
    "ExecuteTime": {
     "end_time": "2025-05-05T06:35:26.257954Z",
     "start_time": "2025-05-05T06:35:26.217329Z"
    }
   },
   "cell_type": "code",
   "source": [
    "# Classification report for more detailed metrics\n",
    "print(\"\\nDecision Tree Classification Report:\")\n",
    "print(classification_report(y_test, dt_predictions))\n",
    "\n",
    "print(\"\\nLogistic Regression Classification Report:\")\n",
    "print(classification_report(y_test, lr_predictions))\n",
    "\n",
    "print(\"\\nRandom Forest Classification Report:\")\n",
    "print(classification_report(y_test, rf_predictions))"
   ],
   "id": "6bad3201d63e66c3",
   "outputs": [
    {
     "name": "stdout",
     "output_type": "stream",
     "text": [
      "\n",
      "Decision Tree Classification Report:\n",
      "              precision    recall  f1-score   support\n",
      "\n",
      "           0       0.82      0.86      0.84       405\n",
      "           1       0.92      0.90      0.91       755\n",
      "\n",
      "    accuracy                           0.88      1160\n",
      "   macro avg       0.87      0.88      0.87      1160\n",
      "weighted avg       0.89      0.88      0.89      1160\n",
      "\n",
      "\n",
      "Logistic Regression Classification Report:\n",
      "              precision    recall  f1-score   support\n",
      "\n",
      "           0       0.87      0.80      0.83       405\n",
      "           1       0.90      0.93      0.92       755\n",
      "\n",
      "    accuracy                           0.89      1160\n",
      "   macro avg       0.88      0.87      0.88      1160\n",
      "weighted avg       0.89      0.89      0.89      1160\n",
      "\n",
      "\n",
      "Random Forest Classification Report:\n",
      "              precision    recall  f1-score   support\n",
      "\n",
      "           0       0.84      0.87      0.85       405\n",
      "           1       0.93      0.91      0.92       755\n",
      "\n",
      "    accuracy                           0.90      1160\n",
      "   macro avg       0.88      0.89      0.89      1160\n",
      "weighted avg       0.90      0.90      0.90      1160\n",
      "\n"
     ]
    }
   ],
   "execution_count": 192
  },
  {
   "metadata": {
    "ExecuteTime": {
     "end_time": "2025-05-05T06:35:28.610323Z",
     "start_time": "2025-05-05T06:35:28.603365Z"
    }
   },
   "cell_type": "code",
   "source": [
    "# Create input data in the same format as the training data (excluding 'FAILED_COURSES' and 'GRANT_CATEGORY_SG')\n",
    "input_data = pd.DataFrame({\n",
    "    'CLASS': [1],\n",
    "    'GENDER': [1],  # Example: 0 for male, 1 for female\n",
    "    'AGE': [20],\n",
    "    'STATUS': [0],  # Example: 0 for active, 1 for inactive\n",
    "    'SCHOOL_TYPE': [0],  # Example: 0 for School, 1 for Lycee\n",
    "    'ATTESTAT_GPA': [2.5],\n",
    "    'COUNTRY_Kazakhstan': [1],  # One-Hot Encoded value for 'Kazakhstan'\n",
    "    'NATIONALITY_Kazakh': [1],  # One-Hot Encoded value for 'Kazakh'\n",
    "    # No need for 'FAILED_COURSES' or 'GRANT_CATEGORY_SG' as these were either dropped or encoded\n",
    "})"
   ],
   "id": "79ff0e4507065b5d",
   "outputs": [],
   "execution_count": 193
  },
  {
   "metadata": {
    "ExecuteTime": {
     "end_time": "2025-05-05T06:35:29.322128Z",
     "start_time": "2025-05-05T06:35:29.301687Z"
    }
   },
   "cell_type": "code",
   "source": [
    "# Ensure the input data has the same columns as the training data (One-Hot Encoding columns)\n",
    "input_data = input_data.reindex(columns=X.columns, fill_value=0)  # Reindex and fill missing columns with 0\n",
    "\n",
    "# Scale the input data using the same scaler fitted on the training data\n",
    "input_data_scaled = scaler.transform(input_data)\n",
    "\n",
    "# Predict the academic success using the trained models\n",
    "prediction_dt = dt_model.predict(input_data_scaled)\n",
    "prediction_lr = lr_model.predict(input_data_scaled)\n",
    "prediction_rf = rf_model.predict(input_data_scaled)"
   ],
   "id": "75083cf2edca7b0d",
   "outputs": [],
   "execution_count": 194
  },
  {
   "metadata": {
    "ExecuteTime": {
     "end_time": "2025-05-05T06:35:30.180757Z",
     "start_time": "2025-05-05T06:35:30.173684Z"
    }
   },
   "cell_type": "code",
   "source": [
    "# Output the predictions\n",
    "if prediction_dt[0] == 1:\n",
    "    print(\"Decision Tree: The student is likely to succeed academically!\")\n",
    "else:\n",
    "    print(\"Decision Tree: The student is likely to fail academically!\")\n",
    "\n",
    "if prediction_lr[0] == 1:\n",
    "    print(\"Logistic Regression: The student is likely to succeed academically!\")\n",
    "else:\n",
    "    print(\"Logistic Regression: The student is likely to fail academically!\")\n",
    "\n",
    "if prediction_rf[0] == 1:\n",
    "    print(\"Random Forest: The student is likely to succeed academically!\")\n",
    "else:\n",
    "    print(\"Random Forest: The student is likely to fail academically!\")"
   ],
   "id": "851f4494644489bd",
   "outputs": [
    {
     "name": "stdout",
     "output_type": "stream",
     "text": [
      "Decision Tree: The student is likely to fail academically!\n",
      "Logistic Regression: The student is likely to fail academically!\n",
      "Random Forest: The student is likely to succeed academically!\n"
     ]
    }
   ],
   "execution_count": 195
  },
  {
   "metadata": {
    "ExecuteTime": {
     "end_time": "2025-05-05T06:35:32.653360Z",
     "start_time": "2025-05-05T06:35:32.589386Z"
    }
   },
   "cell_type": "code",
   "source": [
    "import joblib\n",
    "\n",
    "# Save the trained models to disk\n",
    "joblib.dump(dt_model, 'decision_tree_model.joblib')\n",
    "joblib.dump(lr_model, 'logistic_regression_model.joblib')\n",
    "joblib.dump(rf_model, 'random_forest_model.joblib')\n",
    "\n",
    "# Save the scaler to disk as well\n",
    "joblib.dump(scaler, 'scaler.joblib')\n",
    "\n",
    "print(\"Models and scaler saved successfully!\")\n"
   ],
   "id": "6026687b4575eea9",
   "outputs": [
    {
     "name": "stdout",
     "output_type": "stream",
     "text": [
      "Models and scaler saved successfully!\n"
     ]
    }
   ],
   "execution_count": 196
  },
  {
   "metadata": {
    "ExecuteTime": {
     "end_time": "2025-05-05T06:35:33.793407Z",
     "start_time": "2025-05-05T06:35:33.781530Z"
    }
   },
   "cell_type": "code",
   "source": [
    "# Save X.columns for later use in the Streamlit app\n",
    "columns = X.columns\n",
    "\n",
    "joblib.dump(columns, 'columns.joblib')\n"
   ],
   "id": "827957d35cb4fc04",
   "outputs": [
    {
     "data": {
      "text/plain": [
       "['columns.joblib']"
      ]
     },
     "execution_count": 197,
     "metadata": {},
     "output_type": "execute_result"
    }
   ],
   "execution_count": 197
  },
  {
   "metadata": {},
   "cell_type": "code",
   "outputs": [],
   "execution_count": null,
   "source": "",
   "id": "e0f8b5d6fbc02b2d"
  }
 ],
 "metadata": {
  "kernelspec": {
   "display_name": "Python 3",
   "language": "python",
   "name": "python3"
  },
  "language_info": {
   "codemirror_mode": {
    "name": "ipython",
    "version": 2
   },
   "file_extension": ".py",
   "mimetype": "text/x-python",
   "name": "python",
   "nbconvert_exporter": "python",
   "pygments_lexer": "ipython2",
   "version": "2.7.6"
  }
 },
 "nbformat": 4,
 "nbformat_minor": 5
}
